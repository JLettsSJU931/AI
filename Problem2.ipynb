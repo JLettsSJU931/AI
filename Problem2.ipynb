{
  "nbformat": 4,
  "nbformat_minor": 0,
  "metadata": {
    "colab": {
      "provenance": [],
      "authorship_tag": "ABX9TyNQf2stkoKWyRz0gega5/V8",
      "include_colab_link": true
    },
    "kernelspec": {
      "name": "python3",
      "display_name": "Python 3"
    },
    "language_info": {
      "name": "python"
    }
  },
  "cells": [
    {
      "cell_type": "markdown",
      "metadata": {
        "id": "view-in-github",
        "colab_type": "text"
      },
      "source": [
        "<a href=\"https://colab.research.google.com/github/JLettsSJU931/AI/blob/HW2/Problem2.ipynb\" target=\"_parent\"><img src=\"https://colab.research.google.com/assets/colab-badge.svg\" alt=\"Open In Colab\"/></a>"
      ]
    },
    {
      "cell_type": "code",
      "execution_count": null,
      "metadata": {
        "id": "YnF3bKW0Ud3v"
      },
      "outputs": [],
      "source": [
        "from collections import deque\n",
        "\n",
        "class FriendOfFriend:\n",
        "  def PotentialFriends(g, friend):\n",
        "\n",
        "    visited = set([friend])\n",
        "    queue = deque([(friend, 0)])   # store (node, depth)\n",
        "    potential = set()\n",
        "\n",
        "    while queue:\n",
        "        vertex, depth = queue.popleft()\n",
        "\n",
        "        # If we've reached depth 2, record potential friends\n",
        "        if depth == 2:\n",
        "            potential.add(vertex)\n",
        "            continue  # don't expand further\n",
        "\n",
        "        # Explore neighbors (depth < 2)\n",
        "        for buddy in g[vertex]:\n",
        "            if buddy not in visited:\n",
        "                visited.add(buddy)\n",
        "                queue.append((buddy, depth + 1))\n",
        "\n",
        "    # Remove self\n",
        "    potential.discard(friend)\n",
        "\n",
        "    return potential"
      ]
    },
    {
      "cell_type": "code",
      "source": [
        "g = {\n",
        "    'Adam': ['Maria'],\n",
        "    'Maria': ['Adam', 'Sophia', 'Maya', 'David'],\n",
        "    'Sophia': ['Maria', 'Maya'],\n",
        "    'Maya': ['Sophia', 'Maria', 'David'],\n",
        "    'David': ['Maria', 'Maya'],\n",
        "}\n",
        "mcf = FriendOfFriend;\n",
        "print(mcf.PotentialFriends(g, 'Sophia'));"
      ],
      "metadata": {
        "colab": {
          "base_uri": "https://localhost:8080/"
        },
        "id": "EkkWq8gguQcP",
        "outputId": "c146e682-2011-460b-f17b-13f8d683d15a"
      },
      "execution_count": null,
      "outputs": [
        {
          "output_type": "stream",
          "name": "stdout",
          "text": [
            "{'Adam', 'David'}\n"
          ]
        }
      ]
    }
  ]
}