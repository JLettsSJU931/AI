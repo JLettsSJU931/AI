{
  "nbformat": 4,
  "nbformat_minor": 0,
  "metadata": {
    "colab": {
      "provenance": [],
      "authorship_tag": "ABX9TyNEJTyL35GEGEmWu9tF+9m3",
      "include_colab_link": true
    },
    "kernelspec": {
      "name": "python3",
      "display_name": "Python 3"
    },
    "language_info": {
      "name": "python"
    }
  },
  "cells": [
    {
      "cell_type": "markdown",
      "metadata": {
        "id": "view-in-github",
        "colab_type": "text"
      },
      "source": [
        "<a href=\"https://colab.research.google.com/github/JLettsSJU931/AI/blob/HW1/Letts_AI_Assignment1.ipynb\" target=\"_parent\"><img src=\"https://colab.research.google.com/assets/colab-badge.svg\" alt=\"Open In Colab\"/></a>"
      ]
    },
    {
      "cell_type": "markdown",
      "source": [],
      "metadata": {
        "id": "O_0mXwFo1TZF"
      }
    },
    {
      "cell_type": "code",
      "source": [
        "####################################################################\n",
        "# Jimmy Letts\n",
        "# CSC 362 D01 FA25 Artificial Intelligence\n",
        "# 9/12/2025\n",
        "# Assignment 1: Water Jug Puzzle\n",
        "####################################################################\n",
        "from collections import deque\n",
        "class WaterJugPuzzle():\n",
        "\n",
        "  def __init__(self, largeJugCap = 5, smallJugCap = 3, target = 4):\n",
        "    self.largeJugCap = largeJugCap\n",
        "    self.smallJugCap = smallJugCap\n",
        "    self.target = target\n",
        "\n",
        "    self.largeJug  = 0\n",
        "    self.smallJug = 0\n",
        "\n",
        "  def saveState(self):\n",
        "    self._largeJug = self.largeJug\n",
        "    self._smallJug = self.smallJug\n",
        "\n",
        "  def undoState(self):\n",
        "    self.largeJug = self._largeJug\n",
        "    self.smallJug = self._smallJug\n",
        "\n",
        "  def isTarget(self):\n",
        "    return self.largeJug == self.target or self.smallJug == self.target\n",
        "\n",
        "  ####################################################################\n",
        "  # Rule 1: Fill the Large Jug\n",
        "  ####################################################################\n",
        "\n",
        "  def R1_fill_largeJug(self):\n",
        "    self.saveState()\n",
        "    self.largeJug = self.largeJugCap\n",
        "\n",
        "  ####################################################################\n",
        "  # Rule 2: Fill the Small Jug\n",
        "  ####################################################################\n",
        "\n",
        "  def R2_fill_smallJug(self):\n",
        "    self.saveState()\n",
        "    self.smallJug = self.smallJugCap\n",
        "\n",
        "  ####################################################################\n",
        "  # Rule 3: Empty the Large Jug\n",
        "  ####################################################################\n",
        "\n",
        "  def R3_empty_largeJug(self):\n",
        "    self.saveState()\n",
        "    self.largeJug = 0\n",
        "\n",
        "  ####################################################################\n",
        "  # Rule 4: Empty the Small Jug\n",
        "  ####################################################################\n",
        "\n",
        "  def R4_empty_smallJug(self):\n",
        "    self.saveState()\n",
        "    self.smallJug = 0\n",
        "\n",
        "  ####################################################################\n",
        "  # Rule 5: Pour Large Jug into Small Jug\n",
        "  ####################################################################\n",
        "\n",
        "  def R5_large2small(self):\n",
        "    self.saveState()\n",
        "    transfer = min(self.largeJug, self.smallJugCap - self.smallJug)\n",
        "    self.largeJug -= transfer\n",
        "    self.smallJug += transfer\n",
        "\n",
        "  ####################################################################\n",
        "  # Rule 6: Pour Small Jug into Large Jug\n",
        "  ####################################################################\n",
        "\n",
        "  def R6_small2large(self):\n",
        "    self.saveState()\n",
        "    transfer = min(self.smallJug, self.largeJugCap - self.largeJug)\n",
        "    self.smallJug -= transfer\n",
        "    self.largeJug += transfer\n",
        "\n",
        "  ####################################################################\n",
        "  # Display the State\n",
        "  ####################################################################\n",
        "\n",
        "  def print_state(self):\n",
        "    print(f\"Large Jug= {self.largeJug}/{self.largeJugCap}; Small Jug= {self.smallJug}/{self.smallJugCap}\")\n",
        "\n",
        "\n",
        "\n"
      ],
      "metadata": {
        "id": "n21DVysj2E58"
      },
      "execution_count": null,
      "outputs": []
    },
    {
      "cell_type": "code",
      "source": [
        "mcf=WaterJugPuzzle()\n",
        "\n",
        "mcf.print_state()\n",
        "\n",
        "mcf.R1_fill_largeJug()\n",
        "mcf.print_state()\n",
        "\n",
        "mcf.R5_large2small()\n",
        "mcf.print_state()\n",
        "\n",
        "mcf.R4_empty_smallJug()\n",
        "mcf.print_state()\n",
        "\n",
        "mcf.R5_large2small()\n",
        "mcf.print_state()\n",
        "\n",
        "mcf.R1_fill_largeJug()\n",
        "mcf.print_state()\n",
        "\n",
        "mcf.R5_large2small()\n",
        "mcf.print_state()\n",
        "\n",
        "if mcf.isTarget():\n",
        "  print(\"We just wasted so much water just to solve a silly puzzle D:\")"
      ],
      "metadata": {
        "colab": {
          "base_uri": "https://localhost:8080/"
        },
        "id": "1MzVkGSxKPPJ",
        "outputId": "450f439d-e8ef-4b16-b953-2a42a2895085"
      },
      "execution_count": 22,
      "outputs": [
        {
          "output_type": "stream",
          "name": "stdout",
          "text": [
            "Large Jug= 0/5; Small Jug= 0/3\n",
            "Large Jug= 5/5; Small Jug= 0/3\n",
            "Large Jug= 2/5; Small Jug= 3/3\n",
            "Large Jug= 2/5; Small Jug= 0/3\n",
            "Large Jug= 0/5; Small Jug= 2/3\n",
            "Large Jug= 5/5; Small Jug= 2/3\n",
            "Large Jug= 4/5; Small Jug= 3/3\n",
            "We just wasted so much water just to solve a silly puzzle D:\n"
          ]
        }
      ]
    }
  ]
}