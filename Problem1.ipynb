{
  "nbformat": 4,
  "nbformat_minor": 0,
  "metadata": {
    "colab": {
      "provenance": [],
      "authorship_tag": "ABX9TyObNDu66L30oWyUvXtbjRSK",
      "include_colab_link": true
    },
    "kernelspec": {
      "name": "python3",
      "display_name": "Python 3"
    },
    "language_info": {
      "name": "python"
    }
  },
  "cells": [
    {
      "cell_type": "markdown",
      "metadata": {
        "id": "view-in-github",
        "colab_type": "text"
      },
      "source": [
        "<a href=\"https://colab.research.google.com/github/JLettsSJU931/AI/blob/HW2/Problem1.ipynb\" target=\"_parent\"><img src=\"https://colab.research.google.com/assets/colab-badge.svg\" alt=\"Open In Colab\"/></a>"
      ]
    },
    {
      "cell_type": "code",
      "source": [
        "from collections import deque\n",
        "\n",
        "class LeveledFriends():\n",
        "  def FindOuterFriends(g, friend, k):\n",
        "\n",
        "    visited, queue = set(), deque([(friend, 0)])  # store (node, level)\n",
        "    visited.add(friend)\n",
        "\n",
        "    friend_levels = []\n",
        "\n",
        "    # BFS loop\n",
        "    while queue:\n",
        "        vertex, level = queue.popleft()\n",
        "\n",
        "        # If we've reached the kth level, record this friend\n",
        "        if level == k:\n",
        "            friend_levels.append(vertex)\n",
        "\n",
        "        # Only explore further if we haven’t reached k yet\n",
        "        if level < k:\n",
        "            for buddy in g[vertex]:\n",
        "                if buddy not in visited:\n",
        "                    visited.add(buddy)\n",
        "                    queue.append((buddy, level + 1))\n",
        "\n",
        "    # Exclude the root if K == 0\n",
        "    if k == 0:\n",
        "        return [friend]\n",
        "    else:\n",
        "        return [f for f in friend_levels if f != friend]\n",
        "\n"
      ],
      "metadata": {
        "id": "r_c8EjTlsGyD"
      },
      "execution_count": null,
      "outputs": []
    },
    {
      "cell_type": "code",
      "source": [
        "g = {\n",
        "    'Bob':     ['Pam', 'Rob','Richard'],\n",
        "    'Pam':     ['Roger', 'Peter'],\n",
        "    'Roger':   ['Anna'],\n",
        "    'Peter':   ['Amy'],\n",
        "    'Rob':     [],\n",
        "    'Richard': [],\n",
        "    'Amy':     [],\n",
        "    'Anna':    []\n",
        "}\n",
        "mcf = LeveledFriends\n",
        "print(mcf.FindOuterFriends(G, 'Bob', 3))"
      ],
      "metadata": {
        "colab": {
          "base_uri": "https://localhost:8080/"
        },
        "id": "kjZJ4cLGQ7jf",
        "outputId": "0155bf80-ed51-499a-d34f-52745baca166"
      },
      "execution_count": null,
      "outputs": [
        {
          "output_type": "stream",
          "name": "stdout",
          "text": [
            "['Anna', 'Amy']\n"
          ]
        }
      ]
    }
  ]
}