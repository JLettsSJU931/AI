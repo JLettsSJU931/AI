{
  "nbformat": 4,
  "nbformat_minor": 0,
  "metadata": {
    "colab": {
      "provenance": [],
      "authorship_tag": "ABX9TyOdvBcU1aSIo0EH/NKAhCa0",
      "include_colab_link": true
    },
    "kernelspec": {
      "name": "python3",
      "display_name": "Python 3"
    },
    "language_info": {
      "name": "python"
    }
  },
  "cells": [
    {
      "cell_type": "markdown",
      "metadata": {
        "id": "view-in-github",
        "colab_type": "text"
      },
      "source": [
        "<a href=\"https://colab.research.google.com/github/JLettsSJU931/AI/blob/main/Problem3.ipynb\" target=\"_parent\"><img src=\"https://colab.research.google.com/assets/colab-badge.svg\" alt=\"Open In Colab\"/></a>"
      ]
    },
    {
      "cell_type": "code",
      "execution_count": null,
      "metadata": {
        "id": "fSXVl-5NvvRL"
      },
      "outputs": [],
      "source": [
        "from collections import deque\n",
        "\n",
        "class MazeCracker:\n",
        "  def FindGoal(g, start, goal):\n",
        "\n",
        "    # deque is list-like container with fast appends and pops on either end\n",
        "    visited, queue = set(), deque([start])\n",
        "    visited.add(start)\n",
        "\n",
        "    # Keep exploring as long as the queue is not empty\n",
        "    while queue:\n",
        "\n",
        "        # Dequeue a vertex from queue\n",
        "        vertex = queue.pop()\n",
        "        print(vertex, end=\" \")\n",
        "\n",
        "        if vertex == goal:\n",
        "            return \"SUCCESS\"\n",
        "\n",
        "        # If not visited, mark the node as visited and enqueue it\n",
        "        # Use reversed() to enforce left-to-right ordering\n",
        "\n",
        "        for neighbor in reversed(g[vertex]):\n",
        "            if neighbor not in visited:\n",
        "                visited.add(neighbor)\n",
        "                queue.append(neighbor)\n",
        "\n",
        "    return \"FAILURE\""
      ]
    },
    {
      "cell_type": "code",
      "source": [
        "graph1 = {\n",
        "    'A': ['B'],\n",
        "    'B': ['C'],\n",
        "    'C': [],\n",
        "    'D': []\n",
        "}\n",
        "mcf = MazeCracker\n",
        "print(mcf.FindGoal(graph1, 'A', 'D'))"
      ],
      "metadata": {
        "colab": {
          "base_uri": "https://localhost:8080/"
        },
        "id": "R3Hl1RmWYoWP",
        "outputId": "40b91f9b-995d-4b64-ad82-ad319b31d86f"
      },
      "execution_count": null,
      "outputs": [
        {
          "output_type": "stream",
          "name": "stdout",
          "text": [
            "A B C FAILURE\n"
          ]
        }
      ]
    }
  ]
}